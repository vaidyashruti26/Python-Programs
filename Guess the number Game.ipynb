{
 "cells": [
  {
   "cell_type": "code",
   "execution_count": 2,
   "metadata": {},
   "outputs": [
    {
     "name": "stdout",
     "output_type": "stream",
     "text": [
      "Guess a number between 1 and 50: 20\n",
      "You need to guess higher. Try again.\n",
      "\n",
      "Guess a number between 1 and 50: 30\n",
      "You need to guess lower. Try again.\n",
      "\n",
      "Guess a number between 1 and 50: 35\n",
      "You need to guess lower. Try again.\n",
      "\n",
      "Guess a number between 1 and 50: 25\n",
      "You need to guess lower. Try again.\n",
      "\n",
      "Guess a number between 1 and 50: 21\n",
      "You need to guess higher. Try again.\n",
      "\n",
      "Guess a number between 1 and 50: 24\n",
      "You passed the number correctly!\n"
     ]
    }
   ],
   "source": [
    "import random\n",
    "\n",
    "number = random.randrange(1,50)\n",
    "guess = int(input(\"Guess a number between 1 and 50: \"))\n",
    "\n",
    "while guess != number:\n",
    "    if guess < number:\n",
    "        print(\"You need to guess higher. Try again.\")\n",
    "        guess = int(input(\"\\nGuess a number between 1 and 50: \"))\n",
    "    else:\n",
    "        print(\"You need to guess lower. Try again.\")\n",
    "        guess = int(input(\"\\nGuess a number between 1 and 50: \"))\n",
    "print(\"You passed the number correctly!\")"
   ]
  },
  {
   "cell_type": "code",
   "execution_count": null,
   "metadata": {},
   "outputs": [],
   "source": []
  }
 ],
 "metadata": {
  "kernelspec": {
   "display_name": "Python 3",
   "language": "python",
   "name": "python3"
  },
  "language_info": {
   "codemirror_mode": {
    "name": "ipython",
    "version": 3
   },
   "file_extension": ".py",
   "mimetype": "text/x-python",
   "name": "python",
   "nbconvert_exporter": "python",
   "pygments_lexer": "ipython3",
   "version": "3.7.3"
  }
 },
 "nbformat": 4,
 "nbformat_minor": 2
}

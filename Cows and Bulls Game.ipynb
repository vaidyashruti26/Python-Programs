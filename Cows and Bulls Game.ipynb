{
 "cells": [
  {
   "cell_type": "code",
   "execution_count": 1,
   "metadata": {},
   "outputs": [
    {
     "name": "stdout",
     "output_type": "stream",
     "text": [
      "Random no: 2476\n",
      "User Input: 4726\n",
      "4cows\n",
      "1bulls\n"
     ]
    }
   ],
   "source": [
    "#cows and Bulls Game\n",
    "import random\n",
    "num=str(random.randint(1000,9999))\n",
    "print(\"Random no: \"+num)\n",
    "ask=input('User Input: ')\n",
    "cow=[]\n",
    "bull=[]  \n",
    "for i in ask:\n",
    "    if i in num:\n",
    "        cow.append(i)\n",
    "print(str(len(cow))+'cows')\n",
    "\n",
    "for i in range(0,4):\n",
    "    if ask[i]== num[i]:\n",
    "        bull.append(i)\n",
    "print(str(len(bull))+'bulls')"
   ]
  },
  {
   "cell_type": "code",
   "execution_count": null,
   "metadata": {},
   "outputs": [],
   "source": []
  }
 ],
 "metadata": {
  "kernelspec": {
   "display_name": "Python 3",
   "language": "python",
   "name": "python3"
  },
  "language_info": {
   "codemirror_mode": {
    "name": "ipython",
    "version": 3
   },
   "file_extension": ".py",
   "mimetype": "text/x-python",
   "name": "python",
   "nbconvert_exporter": "python",
   "pygments_lexer": "ipython3",
   "version": "3.7.3"
  }
 },
 "nbformat": 4,
 "nbformat_minor": 2
}

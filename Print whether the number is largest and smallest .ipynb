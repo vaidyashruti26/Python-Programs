{
 "cells": [
  {
   "cell_type": "code",
   "execution_count": 9,
   "metadata": {},
   "outputs": [],
   "source": [
    "def func(no1,no2,no3):\n",
    "    if(no1>no2 and no1>no3 and no2>no3):\n",
    "        print(\"no.3 is smallest among all\\n\" + \"no.1 is largest among All\")\n",
    "    elif(no2>no1 and no2>no3 and no1>no3):\n",
    "        print(\"no.2 is largest among all\\n\" + \"no.3 is smallest among all\")\n",
    "    elif(no3>no1 and no3>no2 and no1>no2):\n",
    "            print(\"no.3 is largest among all\\n\"+ \"no.2 is smallest among all\")\n",
    "    elif(no3>no1 and no3>no2 and no2>no1):\n",
    "            print(\"no.3 is largest among all\\n\"+ \"no.1 is smallest among all\")\n",
    "    elif(no2>no1 and no2>no3 and no3>no1):\n",
    "            print(\"no.2 is largest among all\\n\" + \"no.1 is smallest among all\")\n",
    "    elif(no1>no2 and no1>no3 and no3>no2):\n",
    "            print(\"no.1 is largest among all\\n\" + \"no.2 is smallest among all\")\n",
    "    else:\n",
    "        print(\"Invalid Input\")"
   ]
  },
  {
   "cell_type": "code",
   "execution_count": 10,
   "metadata": {},
   "outputs": [
    {
     "name": "stdout",
     "output_type": "stream",
     "text": [
      "no.1 is largest among all\n",
      "no.2 is smallest among all\n"
     ]
    }
   ],
   "source": [
    "func(60,45,50)"
   ]
  },
  {
   "cell_type": "code",
   "execution_count": null,
   "metadata": {},
   "outputs": [],
   "source": []
  }
 ],
 "metadata": {
  "kernelspec": {
   "display_name": "Python 3",
   "language": "python",
   "name": "python3"
  },
  "language_info": {
   "codemirror_mode": {
    "name": "ipython",
    "version": 3
   },
   "file_extension": ".py",
   "mimetype": "text/x-python",
   "name": "python",
   "nbconvert_exporter": "python",
   "pygments_lexer": "ipython3",
   "version": "3.7.3"
  }
 },
 "nbformat": 4,
 "nbformat_minor": 2
}

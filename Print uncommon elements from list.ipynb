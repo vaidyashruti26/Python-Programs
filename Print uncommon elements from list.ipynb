{
 "cells": [
  {
   "cell_type": "code",
   "execution_count": 22,
   "metadata": {},
   "outputs": [],
   "source": [
    "# uncommon elements\n",
    "def uncommon_elements(list1,list2):\n",
    "    l1=[]\n",
    "    l2=[]\n",
    "    for i in list1:\n",
    "        if i not in list2:\n",
    "            l2.append(i)\n",
    "            \n",
    "    print(l2)\n",
    "    for i in list2:\n",
    "        if i not in list1:\n",
    "            l1.append(i)\n",
    "    print(l1)\n",
    "    "
   ]
  },
  {
   "cell_type": "code",
   "execution_count": 23,
   "metadata": {},
   "outputs": [
    {
     "name": "stdout",
     "output_type": "stream",
     "text": [
      "[2, 3]\n",
      "[6, 7]\n"
     ]
    }
   ],
   "source": [
    "uncommon_elements([1,2,3,4,5],[5,6,1,4,7])"
   ]
  },
  {
   "cell_type": "code",
   "execution_count": 24,
   "metadata": {},
   "outputs": [
    {
     "name": "stdout",
     "output_type": "stream",
     "text": [
      "[2, 3, 4, 5]\n",
      "[6, 7, 8, 9]\n"
     ]
    }
   ],
   "source": [
    "uncommon_elements([1,2,3,4,5],[6,7,8,9,1])"
   ]
  },
  {
   "cell_type": "code",
   "execution_count": 26,
   "metadata": {},
   "outputs": [
    {
     "name": "stdout",
     "output_type": "stream",
     "text": [
      "[1]\n",
      "[6, 12]\n"
     ]
    }
   ],
   "source": [
    "uncommon_elements([1,2,3,4,5],[2,3,4,5,6,12])"
   ]
  },
  {
   "cell_type": "code",
   "execution_count": 27,
   "metadata": {},
   "outputs": [
    {
     "name": "stdout",
     "output_type": "stream",
     "text": [
      "[11, 21, 31, 51]\n",
      "[52, 63, 74, 85, 96]\n"
     ]
    }
   ],
   "source": [
    "uncommon_elements([11,21,31,41,51],[52,63,74,85,96,41])"
   ]
  },
  {
   "cell_type": "code",
   "execution_count": null,
   "metadata": {},
   "outputs": [],
   "source": []
  }
 ],
 "metadata": {
  "kernelspec": {
   "display_name": "Python 3",
   "language": "python",
   "name": "python3"
  },
  "language_info": {
   "codemirror_mode": {
    "name": "ipython",
    "version": 3
   },
   "file_extension": ".py",
   "mimetype": "text/x-python",
   "name": "python",
   "nbconvert_exporter": "python",
   "pygments_lexer": "ipython3",
   "version": "3.7.3"
  }
 },
 "nbformat": 4,
 "nbformat_minor": 2
}
